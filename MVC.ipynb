{
 "cells": [
  {
   "cell_type": "markdown",
   "metadata": {},
   "source": [
    "<div style=\"display:flex;flex-direction:row;justify-content: space-evenly;\">\n",
    "<img src=\"tec.png\" style=\"width:320px;height:197px;\"/>\n",
    "<img src=\"itcolima.png\" style=\"width:197px\"/>\n",
    "</div>\n",
    "<div style=\"display:flex;flex-direction:column;gap:20px;text-align:center\"></div>\n",
    "\n",
    "<h1 align=\"center\">Tecnológico Nacional de México campus Colima</h1><br></br>\n",
    "<h2 align=\"center\">Maestría en Sistemas Computacionales</h2><br></br>\n",
    "<h3 align=\"center\">Tecnologias de Programacion</h3><br></br>\n",
    "<h3 align=\"center\">Modelo Vista Controlador </h3><br></br>\n",
    "<h4 align=\"center\">Docente:</h4><br></br>\n",
    "<h4 align=\"center\">D. en C. Patricia Elizabeth Figueroa Millan</h4><br></br>\n",
    "<h4 align=\"center\">Autor:</h4><br></br>\n",
    "\n",
    "<h4 align=\"center\">Ing. Ricardo Gutierrez Valenzuela G2146012</h4><br></br>\n",
    "<h4 align=\"center\"></h4><br></br>\n",
    "<h4 align=\"center\">Villa de Álvarez, Colima, México</h4><br></br>\n",
    "<h4 align=\"center\">30 de noviembre de 2022</h4><br></br>"
   ]
  },
  {
   "cell_type": "markdown",
   "metadata": {},
   "source": []
  },
  {
   "cell_type": "markdown",
   "metadata": {},
   "source": [
    "Modelo Vista Controlador (MVC) es un estilo de arquitectura de software que separa los datos de una aplicación, la interfaz de usuario, y la lógica de control en tres componentes distintos.\n",
    "\n",
    "Se trata de un modelo muy maduro y que ha demostrado su validez a lo largo de los años en todo tipo de aplicaciones, y sobre multitud de lenguajes y plataformas de desarrollo.\n",
    "El Modelo que contiene una representación de los datos que maneja el sistema, su lógica de negocio, y sus mecanismos de persistencia.\n",
    "La Vista, o interfaz de usuario, que compone la información que se envía al cliente y los mecanismos interacción con éste.\n",
    "El Controlador, que actúa como intermediario entre el Modelo y la Vista, gestionando el flujo de información entre ellos y las transformaciones para adaptar los datos a las necesidades de cada uno.\n",
    " \n",
    "\n",
    "El modelo es el responsable de:\n",
    "Acceder a la capa de almacenamiento de datos. Lo ideal es que el modelo sea independiente del sistema de almacenamiento.\n",
    "Define las reglas de negocio (la funcionalidad del sistema). Un ejemplo de regla puede ser: \"Si la mercancía pedida no está en el almacén, consultar el tiempo de entrega estándar del proveedor\".\n",
    "Lleva un registro de las vistas y controladores del sistema.\n",
    "Si estamos ante un modelo activo, notificará a las vistas los cambios que en los datos pueda producir un agente externo (por ejemplo, un fichero por lotes  que actualiza los datos, un temporizador que desencadena una inserción, etc.).\n",
    " \n",
    "\n",
    "El controlador es responsable de:\n",
    " Recibe los eventos de entrada (un clic, un cambio en un campo de texto, etc.).\n",
    "Contiene reglas de gestión de eventos, del tipo \"SI Evento Z, entonces Acción W\". Estas acciones pueden suponer peticiones al modelo o a las vistas. Una de estas peticiones a las vistas puede ser una llamada al método \"Actualizar()\". Una petición al modelo puede ser \"Obtener_tiempo_de_entrega ( nueva_orden_de_venta )\". \n",
    " \n",
    "\n",
    "Las vistas son responsables de:\n",
    "Recibir datos del modelo y los muestra al usuario.\n",
    "Tienen un registro de su controlador asociado (normalmente porque además lo instancia).\n",
    "Pueden dar el servicio de \"Actualización()\", para que sea invocado por el controlador o por el modelo (cuando es un modelo activo que informa de los cambios en los datos producidos por otros agentes).\n",
    " \n",
    "\n",
    "El flujo que sigue el control generalmente es el siguiente:\n",
    "\n",
    " "
   ]
  },
  {
   "cell_type": "markdown",
   "metadata": {},
   "source": [
    "<div style=\"display:flex;flex-direction:row;justify-content: space-evenly;\">\n",
    "<img src=\"flujo-mvc.png\" style=\"width:500px;height:300px;\"/>"
   ]
  },
  {
   "cell_type": "markdown",
   "metadata": {},
   "source": [
    "<h2 align=\"center\">Que resuelve?</h2><br></br>"
   ]
  },
  {
   "cell_type": "markdown",
   "metadata": {},
   "source": [
    "En muchas ocasiones nos encontramos desarrollando aplicaciones donde toda las reglas del negocio, accesos a fuentes de datos y hasta código de presentación se encuentran en una sola clase, librería o, peor aún, en una sola página (hablando de JSP, ASP o similar). La experiencia nos ha demostrado que estas aplicaciones son muy difíciles de mantener y casi imposibles de reutilizar adecuadamente.\n",
    "\n",
    "Solución\n",
    "El patrón MVC consiste en separar las diferentes responsabilidades en una aplicación, en elementos de tres tipos:\n",
    "• Modelos que contengan el estado (datos) y los mecanismos para alterarlo.\n",
    "• Vistas que desplieguen información o la comuniquen a otros sistemas.\n",
    "• Controles que administren los eventos que afectan a los modelos y escojan las vistas adecuadas para desplegar los resultados.\n",
    "Esto se aprecia en la siguiente figura."
   ]
  },
  {
   "cell_type": "markdown",
   "metadata": {},
   "source": [
    "<div style=\"display:flex;flex-direction:row;justify-content: space-evenly;\">\n",
    "<img src=\"1.png\" style=\"width:500px;height:300px;\"/>"
   ]
  },
  {
   "cell_type": "markdown",
   "metadata": {},
   "source": [
    "Ventajas y desventajas\n",
    "El patrón MVC proporciona una forma excelente de hacer que un elemento sea flexible y adaptable a distintas situaciones. Esta flexibilidad puede ser aprovechada ya sea de manera estática o dinámica. Estática cuando se agregan nuevas clases de vistas o controladores, y dinámica cuando los objetos de vista o controlador se escogen en tiempo de ejecución.\n",
    "\n",
    "Usualmente, el mayor desafío del MVC consiste en determinar la base; es decir, definir interfaces adecuadas para que interactúen modelo, vistas y controlador. A menudo, como en la mayor parte del software, un elemento MVC se desarrolla para satisfacer un conjunto específico de necesidades. Es por esto que se necesita visión y un análisis cuidadoso para implementar el elemento de forma que no se impongan restricciones específicas a una aplicación sobre él"
   ]
  },
  {
   "cell_type": "code",
   "execution_count": 2,
   "metadata": {},
   "outputs": [],
   "source": [
    "class Model(object):\n",
    "    services = {\n",
    "        'email': {'number': 1000, 'price': 2},\n",
    "        'sms': {'number': 1000, 'price': 10},\n",
    "        'voice': {'number': 1000, 'price': 15},\n",
    "    }\n",
    " \n",
    " \n"
   ]
  },
  {
   "cell_type": "code",
   "execution_count": 3,
   "metadata": {},
   "outputs": [],
   "source": [
    "class View(object):\n",
    "    def list_services(self, services):\n",
    "        for svc in services:\n",
    "            print(svc, \" \")\n",
    " \n",
    "    def list_pricing(self, services):\n",
    "        for svc in services:\n",
    "            print(\"For\", Model.services[svc]['number'],\n",
    "                  svc, \"message you pay $\",\n",
    "                  Model.services[svc]['price'])\n",
    " \n",
    " \n"
   ]
  },
  {
   "cell_type": "code",
   "execution_count": 4,
   "metadata": {},
   "outputs": [],
   "source": [
    "class Controller(object):\n",
    "    def __init__(self):\n",
    "        self.model = Model()\n",
    "        self.view = View()\n",
    " \n",
    "    def get_services(self):\n",
    "        services = self.model.services.keys()\n",
    "        return self.view.list_services(services)\n",
    " \n",
    "    def get_pricing(self):\n",
    "        services = self.model.services.keys()\n",
    "        return self.view.list_pricing(services)\n",
    " \n",
    " \n"
   ]
  },
  {
   "cell_type": "code",
   "execution_count": 5,
   "metadata": {},
   "outputs": [
    {
     "name": "stdout",
     "output_type": "stream",
     "text": [
      "Services Provided:\n",
      "email  \n",
      "sms  \n",
      "voice  \n",
      "Pricing for Services:\n",
      "For 1000 email message you pay $ 2\n",
      "For 1000 sms message you pay $ 10\n",
      "For 1000 voice message you pay $ 15\n"
     ]
    }
   ],
   "source": [
    "class Client(object):\n",
    "    con = Controller()\n",
    "    print(\"Services Provided:\")\n",
    "    con.get_services()\n",
    "    print(\"Pricing for Services:\")\n",
    "    con.get_pricing()"
   ]
  },
  {
   "cell_type": "markdown",
   "metadata": {},
   "source": [
    "<h1 align=\"center\">Referencias</h1><br></br>"
   ]
  },
  {
   "cell_type": "markdown",
   "metadata": {},
   "source": [
    "Hernandez, R.D. (2021) El Patrón Modelo-Vista-Controlador: Arquitectura y frameworks explicados, freeCodeCamp.org. freeCodeCamp.org. Available at: https://www.freecodecamp.org/espanol/news/el-modelo-de-arquitectura-view-controller-pattern/ (Accessed: December 1, 2022). \n",
    "\n",
    "Servicio de Informática. Universidad de Alicante (no date) Modelo Vista Controlador (MVC), Modelo vista controlador (MVC). Servicio de Informática ASP.NET MVC 3 Framework. Available at: https://si.ua.es/es/documentacion/asp-net-mvc-3/1-dia/modelo-vista-controlador-mvc.html (Accessed: December 1, 2022). \n",
    "\n",
    "El Patrón MVC. Separando responsabilidades Para Brindar flexibilidad. (no date) SG Buzz. Available at: https://sg.com.mx/content/view/435 (Accessed: December 1, 2022). \n",
    "\n",
    "Programador CLIC&nbsp; (no date) Modo Python modelo-vista-controlador-compuesto - programador clic. Available at: https://programmerclick.com/article/32121550755/ (Accessed: December 1, 2022). "
   ]
  }
 ],
 "metadata": {
  "kernelspec": {
   "display_name": "Python 3.9.13 64-bit (microsoft store)",
   "language": "python",
   "name": "python3"
  },
  "language_info": {
   "codemirror_mode": {
    "name": "ipython",
    "version": 3
   },
   "file_extension": ".py",
   "mimetype": "text/x-python",
   "name": "python",
   "nbconvert_exporter": "python",
   "pygments_lexer": "ipython3",
   "version": "3.9.13"
  },
  "orig_nbformat": 4,
  "vscode": {
   "interpreter": {
    "hash": "4909af37a172c28130569340054d570d4f08223a85021e1d146ad7ce0a591b4e"
   }
  }
 },
 "nbformat": 4,
 "nbformat_minor": 2
}
